{
  "cells": [
    {
      "cell_type": "markdown",
      "metadata": {
        "tags": [
          "112_min",
          "155_min",
          "167_min"
        ],
        "id": "Qqr_-IYSiPZa"
      },
      "source": [
        "**<center><h1 style=\"color:#D4AF37\"> AEMR Business Analysis </h1>**"
      ]
    },
    {
      "cell_type": "markdown",
      "source": [
        "**Setup: Load AEMR Database into Environment**"
      ],
      "metadata": {
        "id": "_fpRyIflm06r"
      }
    },
    {
      "cell_type": "code",
      "execution_count": 2,
      "metadata": {
        "colab": {
          "base_uri": "https://localhost:8080/"
        },
        "id": "ImuYH36ciPZb",
        "outputId": "6076c3e8-6864-4168-d73b-2e914bc01305"
      },
      "outputs": [
        {
          "output_type": "stream",
          "name": "stdout",
          "text": [
            "SQLite database file downloaded successfully.\n"
          ]
        }
      ],
      "source": [
        "import requests\n",
        "from IPython.core.magic import register_line_magic\n",
        "from IPython.display import HTML\n",
        "import sqlite3\n",
        "\n",
        "@register_line_magic\n",
        "def load_sqlite_db(url):\n",
        "    response = requests.get(url)\n",
        "\n",
        "    if response.status_code == 200:\n",
        "        with open('temp_db_file.db', 'wb') as file:\n",
        "            file.write(response.content)\n",
        "        print('SQLite database file downloaded successfully.')\n",
        "    else:\n",
        "        print('Failed to download the SQLite database file.')\n",
        "\n",
        "sqlite_db_url = 'https://raw.githubusercontent.com/chrishuisb1990/practice_datasets/main/AEMR.db'\n",
        "\n",
        "%load_sqlite_db $sqlite_db_url\n",
        "\n",
        "%load_ext sql\n",
        "\n",
        "%sql sqlite:///temp_db_file.db\n",
        "%config SqlMagic.style = '_DEPRECATED_DEFAULT'\n"
      ]
    },
    {
      "cell_type": "markdown",
      "metadata": {
        "id": "JBsq_ET-iPZc"
      },
      "source": [
        "# <h3 style=\"color:#D4AF37\"> Business Question 1 </h3>\n",
        "<b> How do outage volumes vary by outage type (Forced, Scheduled, Opportunistic, Consequential) across 2016 and 2017, and what trends or reliability risks emerge over time? </b>\n",
        "\n"
      ]
    },
    {
      "cell_type": "code",
      "execution_count": 3,
      "metadata": {
        "colab": {
          "base_uri": "https://localhost:8080/",
          "height": 247
        },
        "id": "6jOm-VIeiPZd",
        "outputId": "23a7df65-496a-422e-d0f7-b6b8ab41872b"
      },
      "outputs": [
        {
          "output_type": "stream",
          "name": "stdout",
          "text": [
            " * sqlite:///temp_db_file.db\n",
            "Done.\n"
          ]
        },
        {
          "output_type": "execute_result",
          "data": {
            "text/plain": [
              "[(181, 'Consequential', 2016),\n",
              " (127, 'Consequential', 2017),\n",
              " (1264, 'Forced', 2016),\n",
              " (1622, 'Forced', 2017),\n",
              " (106, 'Opportunistic Maintenance (Planned)', 2016),\n",
              " (102, 'Opportunistic Maintenance (Planned)', 2017),\n",
              " (380, 'Scheduled (Planned)', 2016),\n",
              " (320, 'Scheduled (Planned)', 2017)]"
            ],
            "text/html": [
              "<table>\n",
              "    <thead>\n",
              "        <tr>\n",
              "            <th>total_number_outages</th>\n",
              "            <th>Outage_Reason</th>\n",
              "            <th>Year</th>\n",
              "        </tr>\n",
              "    </thead>\n",
              "    <tbody>\n",
              "        <tr>\n",
              "            <td>181</td>\n",
              "            <td>Consequential</td>\n",
              "            <td>2016</td>\n",
              "        </tr>\n",
              "        <tr>\n",
              "            <td>127</td>\n",
              "            <td>Consequential</td>\n",
              "            <td>2017</td>\n",
              "        </tr>\n",
              "        <tr>\n",
              "            <td>1264</td>\n",
              "            <td>Forced</td>\n",
              "            <td>2016</td>\n",
              "        </tr>\n",
              "        <tr>\n",
              "            <td>1622</td>\n",
              "            <td>Forced</td>\n",
              "            <td>2017</td>\n",
              "        </tr>\n",
              "        <tr>\n",
              "            <td>106</td>\n",
              "            <td>Opportunistic Maintenance (Planned)</td>\n",
              "            <td>2016</td>\n",
              "        </tr>\n",
              "        <tr>\n",
              "            <td>102</td>\n",
              "            <td>Opportunistic Maintenance (Planned)</td>\n",
              "            <td>2017</td>\n",
              "        </tr>\n",
              "        <tr>\n",
              "            <td>380</td>\n",
              "            <td>Scheduled (Planned)</td>\n",
              "            <td>2016</td>\n",
              "        </tr>\n",
              "        <tr>\n",
              "            <td>320</td>\n",
              "            <td>Scheduled (Planned)</td>\n",
              "            <td>2017</td>\n",
              "        </tr>\n",
              "    </tbody>\n",
              "</table>"
            ]
          },
          "metadata": {},
          "execution_count": 3
        }
      ],
      "source": [
        "%%sql\n",
        "SELECT\n",
        "    COUNT(*) AS total_number_outages,\n",
        "    outage_reason, year\n",
        "FROM AEMR_Outage_Table\n",
        "WHERE status = 'Approved'\n",
        "    AND year IN (2016, 2017)\n",
        "GROUP BY outage_reason, year\n",
        "ORDER BY outage_reason, year;"
      ]
    },
    {
      "cell_type": "markdown",
      "metadata": {
        "id": "fErhQo_AiPZd"
      },
      "source": [
        "**Insight:** Between 2016 and 2017, **forced outages rose by 28%**, signaling increased unplanned disruptions and potential reliability concerns. In contrast, scheduled outages fell by 16%, and consequential outages dropped by 30%, suggesting improved containment and planning. Opportunistic maintenance remained stable, reflecting limited proactive flexibility. Overall, forced outages increased, it might suggest declining infrastructure reliability or external factors affecting stability."
      ]
    },
    {
      "cell_type": "markdown",
      "metadata": {
        "tags": [
          "3_min"
        ],
        "id": "LXEmdnlDiPZd"
      },
      "source": [
        "<h3 style=\"color:#D4AF37\"> Business Question 2 </h3>\n",
        "\n"
      ]
    },
    {
      "cell_type": "markdown",
      "metadata": {
        "id": "pyPxoXtQiPZd"
      },
      "source": [
        "<b>What are the monthly trends in approved outage events across 2016 and 2017, and which outage types are increasing over time? </b>\n",
        "\n",
        "\n"
      ]
    },
    {
      "cell_type": "code",
      "execution_count": 4,
      "metadata": {
        "colab": {
          "base_uri": "https://localhost:8080/",
          "height": 589
        },
        "id": "TPXRRwweiPZd",
        "outputId": "a3d97904-c4ee-4bb2-94ee-399c6939a314"
      },
      "outputs": [
        {
          "output_type": "stream",
          "name": "stdout",
          "text": [
            " * sqlite:///temp_db_file.db\n",
            "Done.\n"
          ]
        },
        {
          "output_type": "execute_result",
          "data": {
            "text/plain": [
              "[(2016, 1, 191),\n",
              " (2016, 2, 227),\n",
              " (2016, 3, 136),\n",
              " (2016, 4, 134),\n",
              " (2016, 5, 174),\n",
              " (2016, 6, 168),\n",
              " (2016, 7, 147),\n",
              " (2016, 8, 194),\n",
              " (2016, 9, 124),\n",
              " (2016, 10, 124),\n",
              " (2016, 11, 200),\n",
              " (2016, 12, 112),\n",
              " (2017, 1, 103),\n",
              " (2017, 2, 150),\n",
              " (2017, 3, 109),\n",
              " (2017, 4, 127),\n",
              " (2017, 5, 166),\n",
              " (2017, 6, 204),\n",
              " (2017, 7, 210),\n",
              " (2017, 8, 209),\n",
              " (2017, 9, 172),\n",
              " (2017, 10, 276),\n",
              " (2017, 11, 197),\n",
              " (2017, 12, 248)]"
            ],
            "text/html": [
              "<table>\n",
              "    <thead>\n",
              "        <tr>\n",
              "            <th>Year</th>\n",
              "            <th>Month</th>\n",
              "            <th>total_number_outages</th>\n",
              "        </tr>\n",
              "    </thead>\n",
              "    <tbody>\n",
              "        <tr>\n",
              "            <td>2016</td>\n",
              "            <td>1</td>\n",
              "            <td>191</td>\n",
              "        </tr>\n",
              "        <tr>\n",
              "            <td>2016</td>\n",
              "            <td>2</td>\n",
              "            <td>227</td>\n",
              "        </tr>\n",
              "        <tr>\n",
              "            <td>2016</td>\n",
              "            <td>3</td>\n",
              "            <td>136</td>\n",
              "        </tr>\n",
              "        <tr>\n",
              "            <td>2016</td>\n",
              "            <td>4</td>\n",
              "            <td>134</td>\n",
              "        </tr>\n",
              "        <tr>\n",
              "            <td>2016</td>\n",
              "            <td>5</td>\n",
              "            <td>174</td>\n",
              "        </tr>\n",
              "        <tr>\n",
              "            <td>2016</td>\n",
              "            <td>6</td>\n",
              "            <td>168</td>\n",
              "        </tr>\n",
              "        <tr>\n",
              "            <td>2016</td>\n",
              "            <td>7</td>\n",
              "            <td>147</td>\n",
              "        </tr>\n",
              "        <tr>\n",
              "            <td>2016</td>\n",
              "            <td>8</td>\n",
              "            <td>194</td>\n",
              "        </tr>\n",
              "        <tr>\n",
              "            <td>2016</td>\n",
              "            <td>9</td>\n",
              "            <td>124</td>\n",
              "        </tr>\n",
              "        <tr>\n",
              "            <td>2016</td>\n",
              "            <td>10</td>\n",
              "            <td>124</td>\n",
              "        </tr>\n",
              "        <tr>\n",
              "            <td>2016</td>\n",
              "            <td>11</td>\n",
              "            <td>200</td>\n",
              "        </tr>\n",
              "        <tr>\n",
              "            <td>2016</td>\n",
              "            <td>12</td>\n",
              "            <td>112</td>\n",
              "        </tr>\n",
              "        <tr>\n",
              "            <td>2017</td>\n",
              "            <td>1</td>\n",
              "            <td>103</td>\n",
              "        </tr>\n",
              "        <tr>\n",
              "            <td>2017</td>\n",
              "            <td>2</td>\n",
              "            <td>150</td>\n",
              "        </tr>\n",
              "        <tr>\n",
              "            <td>2017</td>\n",
              "            <td>3</td>\n",
              "            <td>109</td>\n",
              "        </tr>\n",
              "        <tr>\n",
              "            <td>2017</td>\n",
              "            <td>4</td>\n",
              "            <td>127</td>\n",
              "        </tr>\n",
              "        <tr>\n",
              "            <td>2017</td>\n",
              "            <td>5</td>\n",
              "            <td>166</td>\n",
              "        </tr>\n",
              "        <tr>\n",
              "            <td>2017</td>\n",
              "            <td>6</td>\n",
              "            <td>204</td>\n",
              "        </tr>\n",
              "        <tr>\n",
              "            <td>2017</td>\n",
              "            <td>7</td>\n",
              "            <td>210</td>\n",
              "        </tr>\n",
              "        <tr>\n",
              "            <td>2017</td>\n",
              "            <td>8</td>\n",
              "            <td>209</td>\n",
              "        </tr>\n",
              "        <tr>\n",
              "            <td>2017</td>\n",
              "            <td>9</td>\n",
              "            <td>172</td>\n",
              "        </tr>\n",
              "        <tr>\n",
              "            <td>2017</td>\n",
              "            <td>10</td>\n",
              "            <td>276</td>\n",
              "        </tr>\n",
              "        <tr>\n",
              "            <td>2017</td>\n",
              "            <td>11</td>\n",
              "            <td>197</td>\n",
              "        </tr>\n",
              "        <tr>\n",
              "            <td>2017</td>\n",
              "            <td>12</td>\n",
              "            <td>248</td>\n",
              "        </tr>\n",
              "    </tbody>\n",
              "</table>"
            ]
          },
          "metadata": {},
          "execution_count": 4
        }
      ],
      "source": [
        "%%sql\n",
        "select\n",
        "    year, month,\n",
        "    COUNT(*) AS total_number_outages\n",
        "from AEMR_Outage_Table\n",
        "where status = 'Approved'\n",
        "    AND year in (2016,2017)\n",
        "group by year, month\n",
        "order by year, month, total_number_outages desc;"
      ]
    },
    {
      "cell_type": "markdown",
      "metadata": {
        "id": "flQiMpHLiPZd"
      },
      "source": [
        "**Insight:**\n",
        "The analysis reveals clear seasonal spikes in outage events, with the second half of the year (July to December) showing consistently higher volumes. This trend may be driven by environmental conditions (e.g., heatwaves or storms) or operational constraints such as delayed maintenance.\n",
        "\n",
        "While one outage type shows a notable increase in frequency from 2016 to 2017, frequency alone doesn’t fully capture its impact. It’s equally important to consider **outage duration**—as short interruptions may be negligible, but prolonged outages pose a significant threat to energy reliability and supply security."
      ]
    },
    {
      "cell_type": "markdown",
      "metadata": {
        "id": "5RAv5PP8iPZd"
      },
      "source": [
        "<h3 style=\"color:#D4AF37\"> Business Question 3 </h3>\n"
      ]
    },
    {
      "cell_type": "markdown",
      "metadata": {
        "id": "w7eWTRdNiPZe"
      },
      "source": [
        "\n",
        "    \n",
        " **Which participants are responsible for the most frequent and prolonged approved outages by type, and what operational risks do they pose?**\n",
        "\n",
        "\n",
        "\n"
      ]
    },
    {
      "cell_type": "code",
      "execution_count": 5,
      "metadata": {
        "colab": {
          "base_uri": "https://localhost:8080/",
          "height": 290
        },
        "id": "Xgp5HE5hiPZe",
        "outputId": "cd0b1373-fdb8-4ad0-f0cd-a6d57ec48276"
      },
      "outputs": [
        {
          "output_type": "stream",
          "name": "stdout",
          "text": [
            " * sqlite:///temp_db_file.db\n",
            "Done.\n"
          ]
        },
        {
          "output_type": "execute_result",
          "data": {
            "text/plain": [
              "[('AURICON', 'Forced', 2017, 490, 0.07),\n",
              " ('GW', 'Forced', 2016, 317, 0.38),\n",
              " ('GW', 'Forced', 2017, 227, 1.06),\n",
              " ('AURICON', 'Forced', 2016, 208, 0.07),\n",
              " ('AUXC', 'Forced', 2016, 206, 0.08),\n",
              " ('MELK', 'Forced', 2017, 177, 2.28),\n",
              " ('TRMOS', 'Forced', 2017, 172, 0.42),\n",
              " ('MELK', 'Forced', 2016, 157, 0.83),\n",
              " ('PUG', 'Forced', 2017, 135, 0.25),\n",
              " ('AUXC', 'Forced', 2017, 120, 0.02)]"
            ],
            "text/html": [
              "<table>\n",
              "    <thead>\n",
              "        <tr>\n",
              "            <th>Participant_Code</th>\n",
              "            <th>Outage_Reason</th>\n",
              "            <th>Year</th>\n",
              "            <th>total_number_outages</th>\n",
              "            <th>avg_outage_duration_days</th>\n",
              "        </tr>\n",
              "    </thead>\n",
              "    <tbody>\n",
              "        <tr>\n",
              "            <td>AURICON</td>\n",
              "            <td>Forced</td>\n",
              "            <td>2017</td>\n",
              "            <td>490</td>\n",
              "            <td>0.07</td>\n",
              "        </tr>\n",
              "        <tr>\n",
              "            <td>GW</td>\n",
              "            <td>Forced</td>\n",
              "            <td>2016</td>\n",
              "            <td>317</td>\n",
              "            <td>0.38</td>\n",
              "        </tr>\n",
              "        <tr>\n",
              "            <td>GW</td>\n",
              "            <td>Forced</td>\n",
              "            <td>2017</td>\n",
              "            <td>227</td>\n",
              "            <td>1.06</td>\n",
              "        </tr>\n",
              "        <tr>\n",
              "            <td>AURICON</td>\n",
              "            <td>Forced</td>\n",
              "            <td>2016</td>\n",
              "            <td>208</td>\n",
              "            <td>0.07</td>\n",
              "        </tr>\n",
              "        <tr>\n",
              "            <td>AUXC</td>\n",
              "            <td>Forced</td>\n",
              "            <td>2016</td>\n",
              "            <td>206</td>\n",
              "            <td>0.08</td>\n",
              "        </tr>\n",
              "        <tr>\n",
              "            <td>MELK</td>\n",
              "            <td>Forced</td>\n",
              "            <td>2017</td>\n",
              "            <td>177</td>\n",
              "            <td>2.28</td>\n",
              "        </tr>\n",
              "        <tr>\n",
              "            <td>TRMOS</td>\n",
              "            <td>Forced</td>\n",
              "            <td>2017</td>\n",
              "            <td>172</td>\n",
              "            <td>0.42</td>\n",
              "        </tr>\n",
              "        <tr>\n",
              "            <td>MELK</td>\n",
              "            <td>Forced</td>\n",
              "            <td>2016</td>\n",
              "            <td>157</td>\n",
              "            <td>0.83</td>\n",
              "        </tr>\n",
              "        <tr>\n",
              "            <td>PUG</td>\n",
              "            <td>Forced</td>\n",
              "            <td>2017</td>\n",
              "            <td>135</td>\n",
              "            <td>0.25</td>\n",
              "        </tr>\n",
              "        <tr>\n",
              "            <td>AUXC</td>\n",
              "            <td>Forced</td>\n",
              "            <td>2017</td>\n",
              "            <td>120</td>\n",
              "            <td>0.02</td>\n",
              "        </tr>\n",
              "    </tbody>\n",
              "</table>"
            ]
          },
          "metadata": {},
          "execution_count": 5
        }
      ],
      "source": [
        "%%sql\n",
        "SELECT\n",
        "    Participant_Code,\n",
        "    Outage_Reason,\n",
        "    Year,\n",
        "    COUNT(*) AS total_number_outages,\n",
        "    ROUND(AVG(ABS(JULIANDAY(end_time) - JULIANDAY(start_time))),2) AS avg_outage_duration_days\n",
        "FROM AEMR_Outage_Table\n",
        "WHERE status = 'Approved'\n",
        "GROUP BY 1,2,3\n",
        "ORDER BY total_number_outages desc\n",
        "LIMIT 10; -- NOTE: Limited to 10 rows for quick view of results\n"
      ]
    },
    {
      "cell_type": "markdown",
      "metadata": {
        "id": "ZgpidYCMiPZe"
      },
      "source": [
        "**Insights:**\n",
        "\n",
        "- **AURICON** reported the highest number of forced outages in both 2016 (208) and 2017 (490). Despite the high volume, the average outage duration was just **0.07 days**, indicating frequent but low-severity events. This suggests potential reliability issues tied to recurring minor disruptions or gaps in preventive maintenance.\n",
        "\n",
        "- **GW** experienced a significant rise in outage duration—from **0.38 days in 2016** to **1.06 days in 2017**—alongside consistently high outage counts. This trend signals deteriorating recovery efficiency and a growing risk to operational continuity.\n",
        "\n",
        "- **MELK** exhibited the most critical pattern, with both high outage frequency and the **longest durations**: **0.83 days in 2016** and **2.28 days in 2017**. This presents a major reliability concern and highlights the need for urgent infrastructure and process evaluation.\n",
        "\n",
        "> While AURICON poses a high-frequency but low-impact risk, **GW and MELK represent more severe systemic threats** due to the compounding effect of recurring, prolonged outages. These entities should be prioritized for compliance reviews, root cause investigations, and mitigation planning.\n",
        "\n"
      ]
    },
    {
      "cell_type": "markdown",
      "metadata": {
        "id": "_7Fe-97liPZe"
      },
      "source": [
        "<h3 style=\"color:#D4AF37\"> Business Question 4 </h3>"
      ]
    },
    {
      "cell_type": "markdown",
      "metadata": {
        "id": "I1AUv7sciPZe"
      },
      "source": [
        "<b> Which participants can be classified as High, Medium, or Low Risk based on their average outage duration, and how can this segmentation inform operational decision-making?"
      ]
    },
    {
      "cell_type": "markdown",
      "metadata": {
        "id": "uFwGJ0E7AVk0"
      },
      "source": [
        "\n",
        "\n",
        "Risk classification criteria\n",
        "<b>\n",
        "<li> High Risk - On average, the participant is unavailable for > 24 Hours (1 Day)</li>\n",
        "<li> Medium Risk - On average, the participant is unavailable between 12 and 24 Hours </li>\n",
        "<li> Low Risk - On average, the participant is unavailable for less than 12 Hours</li>\n",
        "</b>"
      ]
    },
    {
      "cell_type": "code",
      "execution_count": 13,
      "metadata": {
        "colab": {
          "base_uri": "https://localhost:8080/",
          "height": 290
        },
        "id": "mdHsaXWRiPZe",
        "outputId": "cc4a1ebf-109b-4d22-eb53-7328150af0a6"
      },
      "outputs": [
        {
          "output_type": "stream",
          "name": "stdout",
          "text": [
            " * sqlite:///temp_db_file.db\n",
            "Done.\n"
          ]
        },
        {
          "output_type": "execute_result",
          "data": {
            "text/plain": [
              "[('AURICON', 'Forced', 2017, 490, 0.07, 'Low Risk'),\n",
              " ('GW', 'Forced', 2016, 317, 0.38, 'Low Risk'),\n",
              " ('GW', 'Forced', 2017, 227, 1.06, 'High Risk'),\n",
              " ('AURICON', 'Forced', 2016, 208, 0.07, 'Low Risk'),\n",
              " ('AUXC', 'Forced', 2016, 206, 0.08, 'Low Risk'),\n",
              " ('MELK', 'Forced', 2017, 177, 2.28, 'High Risk'),\n",
              " ('TRMOS', 'Forced', 2017, 172, 0.42, 'Low Risk'),\n",
              " ('MELK', 'Forced', 2016, 157, 0.83, 'Medium Risk'),\n",
              " ('PUG', 'Forced', 2017, 135, 0.25, 'Low Risk'),\n",
              " ('AUXC', 'Forced', 2017, 120, 0.02, 'Low Risk')]"
            ],
            "text/html": [
              "<table>\n",
              "    <thead>\n",
              "        <tr>\n",
              "            <th>Participant_Code</th>\n",
              "            <th>Outage_Reason</th>\n",
              "            <th>Year</th>\n",
              "            <th>total_number_outages</th>\n",
              "            <th>avg_outage_duration_days</th>\n",
              "            <th>Risk_Classification</th>\n",
              "        </tr>\n",
              "    </thead>\n",
              "    <tbody>\n",
              "        <tr>\n",
              "            <td>AURICON</td>\n",
              "            <td>Forced</td>\n",
              "            <td>2017</td>\n",
              "            <td>490</td>\n",
              "            <td>0.07</td>\n",
              "            <td>Low Risk</td>\n",
              "        </tr>\n",
              "        <tr>\n",
              "            <td>GW</td>\n",
              "            <td>Forced</td>\n",
              "            <td>2016</td>\n",
              "            <td>317</td>\n",
              "            <td>0.38</td>\n",
              "            <td>Low Risk</td>\n",
              "        </tr>\n",
              "        <tr>\n",
              "            <td>GW</td>\n",
              "            <td>Forced</td>\n",
              "            <td>2017</td>\n",
              "            <td>227</td>\n",
              "            <td>1.06</td>\n",
              "            <td>High Risk</td>\n",
              "        </tr>\n",
              "        <tr>\n",
              "            <td>AURICON</td>\n",
              "            <td>Forced</td>\n",
              "            <td>2016</td>\n",
              "            <td>208</td>\n",
              "            <td>0.07</td>\n",
              "            <td>Low Risk</td>\n",
              "        </tr>\n",
              "        <tr>\n",
              "            <td>AUXC</td>\n",
              "            <td>Forced</td>\n",
              "            <td>2016</td>\n",
              "            <td>206</td>\n",
              "            <td>0.08</td>\n",
              "            <td>Low Risk</td>\n",
              "        </tr>\n",
              "        <tr>\n",
              "            <td>MELK</td>\n",
              "            <td>Forced</td>\n",
              "            <td>2017</td>\n",
              "            <td>177</td>\n",
              "            <td>2.28</td>\n",
              "            <td>High Risk</td>\n",
              "        </tr>\n",
              "        <tr>\n",
              "            <td>TRMOS</td>\n",
              "            <td>Forced</td>\n",
              "            <td>2017</td>\n",
              "            <td>172</td>\n",
              "            <td>0.42</td>\n",
              "            <td>Low Risk</td>\n",
              "        </tr>\n",
              "        <tr>\n",
              "            <td>MELK</td>\n",
              "            <td>Forced</td>\n",
              "            <td>2016</td>\n",
              "            <td>157</td>\n",
              "            <td>0.83</td>\n",
              "            <td>Medium Risk</td>\n",
              "        </tr>\n",
              "        <tr>\n",
              "            <td>PUG</td>\n",
              "            <td>Forced</td>\n",
              "            <td>2017</td>\n",
              "            <td>135</td>\n",
              "            <td>0.25</td>\n",
              "            <td>Low Risk</td>\n",
              "        </tr>\n",
              "        <tr>\n",
              "            <td>AUXC</td>\n",
              "            <td>Forced</td>\n",
              "            <td>2017</td>\n",
              "            <td>120</td>\n",
              "            <td>0.02</td>\n",
              "            <td>Low Risk</td>\n",
              "        </tr>\n",
              "    </tbody>\n",
              "</table>"
            ]
          },
          "metadata": {},
          "execution_count": 13
        }
      ],
      "source": [
        "%%sql\n",
        "with avg_duration_days as(\n",
        "    SELECT\n",
        "    Participant_Code,\n",
        "    Outage_Reason,\n",
        "    Year,\n",
        "    COUNT(*) AS total_number_outages,\n",
        "    ROUND(AVG(ABS(JULIANDAY(end_time) - JULIANDAY(start_time))),2) AS avg_outage_duration_days\n",
        "FROM AEMR_Outage_Table\n",
        "WHERE status = 'Approved'\n",
        "GROUP BY Participant_Code,Outage_Reason,Year\n",
        "ORDER BY total_number_outages desc)\n",
        "\n",
        "SELECT *,\n",
        "CASE\n",
        "    WHEN avg_outage_duration_days > 1 then 'High Risk'\n",
        "    WHEN avg_outage_duration_days between 0.5 and 1 then 'Medium Risk'\n",
        "    WHEN avg_outage_duration_days between 0 and 0.5 then 'Low Risk'\n",
        "    ELSE 'N/A'\n",
        "    END as Risk_Classification\n",
        "from avg_duration_days\n",
        "LIMIT 10; -- NOTE: Limited to 10 rows for quick view of results\n"
      ]
    },
    {
      "cell_type": "markdown",
      "source": [
        "**Insights: Risk-Based Participant Classification**\n",
        "\n",
        "Using average outage duration as the classification criterion, participants were segmented into **High**, **Medium**, and **Low Risk** tiers:\n",
        "\n",
        "**High Risk Participants**\n",
        "These participants experienced **average outages > 1 day (24 hours)** and therefore pose the **greatest risk to operational stability**. Notably:\n",
        "\n",
        "- **MELK**: Consistently appears across multiple outage types with durations exceeding 2 days (e.g., 2.28 in 2017 and 6.89 for Scheduled).\n",
        "- **GW**: While showing a high volume of outages, it also recorded several Scheduled outages with durations of **4.43 days (2016)** and **2.65 days (2017)**.\n",
        "- **AURICON**, **COLLGAR**, **KORL**, **PMC**, and **ENRG** also demonstrated prolonged scheduled or forced outages above the 1-day threshold.\n",
        "\n",
        "These participants require **targeted audits**, **preventive infrastructure improvements**, and **closer compliance monitoring** to reduce downtime.\n",
        "\n",
        "---\n",
        "\n",
        "**Medium Risk Participants**\n",
        "With average outage durations between **12 and 24 hours**, these participants are **moderate stability risks**, including:\n",
        "\n",
        "- **PJRH**, **TSLA_MGT**, **MELK** (in specific years or outage types), **PUG**, and **AUXC**.\n",
        "- Although their events are less severe than high-risk participants, these still have potential for compounding operational strain.\n",
        "\n",
        "They should be **monitored proactively** to prevent escalation and reclassified if durations worsen over time.\n",
        "\n",
        "---\n",
        "\n",
        "**Low Risk Participants**\n",
        "These participants maintain **short average outages (< 12 hours)** and are **operationally stable**:\n",
        "\n",
        "- Includes high-volume entities like **AURICON** (Forced outages averaging 0.07 days) and **AUXC**, **TRMOS**, **DNHR**, among others.\n",
        "- These facilities generally present **manageable and predictable outage patterns**, though volume should still be tracked to catch emerging issues.\n",
        "\n",
        "They can serve as **benchmarks for operational excellence**, but should still adhere to preventive maintenance standards.\n",
        "\n",
        "\n"
      ],
      "metadata": {
        "id": "k54eBkMS8msh"
      }
    },
    {
      "cell_type": "markdown",
      "metadata": {
        "id": "LBQG3TQPiPZe"
      },
      "source": [
        "<h3 style=\"color:#D4AF37\"> Business Question 5 </h3>"
      ]
    },
    {
      "cell_type": "markdown",
      "metadata": {
        "id": "bPULKO-tiPZe"
      },
      "source": [
        "<b> Which participants pose the greatest operational risk based on the frequency and average duration (in days) of their forced outages?\n",
        "\n"
      ]
    },
    {
      "cell_type": "markdown",
      "metadata": {
        "id": "SBDWDQW0iPZe"
      },
      "source": [
        "While outage types such as **Consequential**, **Opportunistic**, and **Planned** contribute to overall operational metrics, only **Forced outages** are **unplanned** and pose a direct risk to **grid reliability and energy security**. Including all outage types equally in the risk model may dilute focus from the most critical threats.\n",
        "\n",
        "To address this, the revised framework focuses solely on **Forced outages**, using a **dual-criteria approach** that incorporates both **average outage duration** and **event frequency** to more accurately assess operational risk.\n",
        "\n",
        "\n",
        "Risk Classification (Forced Outages Only)\n",
        "\n",
        "- **High Risk**  \n",
        "  - Average duration > 24 hours  OR\n",
        "  - More than 20 outage events  \n",
        "\n",
        "- **Medium Risk**  \n",
        "  - Average duration between 12–24 hours OR\n",
        "  - 10–20 outage events  \n",
        "\n",
        "- **Low Risk**  \n",
        "  - Average duration < 12 hours OR\n",
        "  - Fewer than 10 outage events  \n",
        "\n",
        "This refined model ensures focus remains on **critical unplanned outages**, enabling more effective monitoring, prioritization, and mitigation strategies.\n",
        "\n"
      ]
    },
    {
      "cell_type": "code",
      "execution_count": 14,
      "metadata": {
        "colab": {
          "base_uri": "https://localhost:8080/",
          "height": 183
        },
        "id": "yJ6pv4cfiPZq",
        "outputId": "f955a250-59e6-4cd9-f2c4-2290fdc27519"
      },
      "outputs": [
        {
          "output_type": "stream",
          "name": "stdout",
          "text": [
            " * sqlite:///temp_db_file.db\n",
            "Done.\n"
          ]
        },
        {
          "output_type": "execute_result",
          "data": {
            "text/plain": [
              "[('AURICON', 'Forced', 2017, 490, 0.07, 'High Risk'),\n",
              " ('GW', 'Forced', 2016, 317, 0.38, 'High Risk'),\n",
              " ('GW', 'Forced', 2017, 227, 1.06, 'High Risk'),\n",
              " ('AURICON', 'Forced', 2016, 208, 0.07, 'High Risk'),\n",
              " ('AUXC', 'Forced', 2016, 206, 0.08, 'High Risk')]"
            ],
            "text/html": [
              "<table>\n",
              "    <thead>\n",
              "        <tr>\n",
              "            <th>Participant_Code</th>\n",
              "            <th>Outage_Reason</th>\n",
              "            <th>Year</th>\n",
              "            <th>total_number_outages</th>\n",
              "            <th>avg_outage_duration_days</th>\n",
              "            <th>Risk_Classification</th>\n",
              "        </tr>\n",
              "    </thead>\n",
              "    <tbody>\n",
              "        <tr>\n",
              "            <td>AURICON</td>\n",
              "            <td>Forced</td>\n",
              "            <td>2017</td>\n",
              "            <td>490</td>\n",
              "            <td>0.07</td>\n",
              "            <td>High Risk</td>\n",
              "        </tr>\n",
              "        <tr>\n",
              "            <td>GW</td>\n",
              "            <td>Forced</td>\n",
              "            <td>2016</td>\n",
              "            <td>317</td>\n",
              "            <td>0.38</td>\n",
              "            <td>High Risk</td>\n",
              "        </tr>\n",
              "        <tr>\n",
              "            <td>GW</td>\n",
              "            <td>Forced</td>\n",
              "            <td>2017</td>\n",
              "            <td>227</td>\n",
              "            <td>1.06</td>\n",
              "            <td>High Risk</td>\n",
              "        </tr>\n",
              "        <tr>\n",
              "            <td>AURICON</td>\n",
              "            <td>Forced</td>\n",
              "            <td>2016</td>\n",
              "            <td>208</td>\n",
              "            <td>0.07</td>\n",
              "            <td>High Risk</td>\n",
              "        </tr>\n",
              "        <tr>\n",
              "            <td>AUXC</td>\n",
              "            <td>Forced</td>\n",
              "            <td>2016</td>\n",
              "            <td>206</td>\n",
              "            <td>0.08</td>\n",
              "            <td>High Risk</td>\n",
              "        </tr>\n",
              "    </tbody>\n",
              "</table>"
            ]
          },
          "metadata": {},
          "execution_count": 14
        }
      ],
      "source": [
        "%%sql\n",
        "with avg_duration_days as(\n",
        "    SELECT\n",
        "    Participant_Code,\n",
        "    Outage_Reason,\n",
        "    Year,\n",
        "    COUNT(*) AS total_number_outages,\n",
        "    ROUND(AVG(ABS(JULIANDAY(end_time) - JULIANDAY(start_time))),2) AS avg_outage_duration_days\n",
        "FROM AEMR_Outage_Table\n",
        "WHERE status = 'Approved'\n",
        "GROUP BY Participant_Code,Outage_Reason,Year\n",
        "ORDER BY total_number_outages desc)\n",
        "\n",
        "SELECT *,\n",
        "CASE\n",
        "    WHEN avg_outage_duration_days > 1 AND Outage_Reason = 'Forced'\n",
        "    OR total_number_outages > 20 then 'High Risk'\n",
        "    WHEN avg_outage_duration_days between 0.5 and 1 AND Outage_Reason = 'Forced'\n",
        "    OR total_number_outages between 10 and 20 then 'Medium Risk'\n",
        "    WHEN avg_outage_duration_days between 0 and 0.5 AND Outage_Reason = 'Forced'\n",
        "    OR total_number_outages > 10 then 'Low Risk'\n",
        "    ELSE 'N/A'\n",
        "    END as Risk_Classification\n",
        "from avg_duration_days\n",
        "LIMIT 5; -- NOTE: Limited to 5 rows for quick view of results;"
      ]
    },
    {
      "cell_type": "markdown",
      "source": [
        "**Insights:**\n",
        "\n",
        "- **AURICON, GW, MELK, TRMOS, and PUG** top the **High Risk** list due to frequent **forced outages**, despite many of their individual outages being short in duration.  \n",
        "This pattern indicates **chronic operational instability** and highlights the need for **preventive maintenance** and **proactive monitoring**.\n",
        "\n",
        "- **MELK** stands out for exhibiting both **high frequency** and **prolonged outage durations** (e.g., **2.28 days** in 2017), signaling **critical reliability concerns** that may require urgent intervention.\n",
        "\n",
        "- Participants like **WGUTD** and **ENRG** are currently classified as **Low or Medium Risk** due to fewer or shorter outage durations, but they should still be **monitored over time** to detect any upward trends that may elevate their risk profile.\n"
      ],
      "metadata": {
        "id": "fMg6F3j6Af_0"
      }
    },
    {
      "cell_type": "markdown",
      "metadata": {
        "id": "cMirFM4fiPZq"
      },
      "source": [
        "<h3 style=\"color:#D4AF37\"> Business Question 6 </h3>"
      ]
    },
    {
      "cell_type": "markdown",
      "metadata": {
        "id": "7ZY-jTbNiPZq"
      },
      "source": [
        "<b> What proportion of all approved outages were classified as Forced in 2016 and 2017, and which outage types showed notable increases in frequency over this period? </b>\n",
        "\n"
      ]
    },
    {
      "cell_type": "code",
      "execution_count": 15,
      "metadata": {
        "colab": {
          "base_uri": "https://localhost:8080/",
          "height": 119
        },
        "id": "Hm49EsJHiPZq",
        "outputId": "0ce3994f-1a5f-4417-c9b5-fe375b9d9032"
      },
      "outputs": [
        {
          "output_type": "stream",
          "name": "stdout",
          "text": [
            " * sqlite:///temp_db_file.db\n",
            "Done.\n"
          ]
        },
        {
          "output_type": "execute_result",
          "data": {
            "text/plain": [
              "[(2016, 1931, 1264, 65.46), (2017, 2171, 1622, 74.71)]"
            ],
            "text/html": [
              "<table>\n",
              "    <thead>\n",
              "        <tr>\n",
              "            <th>Year</th>\n",
              "            <th>Total_Outage_Events</th>\n",
              "            <th>Total_Count_Of_Forced_Events</th>\n",
              "            <th>Pct_Outage_Forced</th>\n",
              "        </tr>\n",
              "    </thead>\n",
              "    <tbody>\n",
              "        <tr>\n",
              "            <td>2016</td>\n",
              "            <td>1931</td>\n",
              "            <td>1264</td>\n",
              "            <td>65.46</td>\n",
              "        </tr>\n",
              "        <tr>\n",
              "            <td>2017</td>\n",
              "            <td>2171</td>\n",
              "            <td>1622</td>\n",
              "            <td>74.71</td>\n",
              "        </tr>\n",
              "    </tbody>\n",
              "</table>"
            ]
          },
          "metadata": {},
          "execution_count": 15
        }
      ],
      "source": [
        "%%sql\n",
        "SELECT Year,Total_Outage_Events,Total_Count_Of_Forced_Events,\n",
        "    ROUND(1.0 * Total_Count_Of_Forced_Events / Total_Outage_Events *100.00, 2) AS Pct_Outage_Forced\n",
        "FROM (\n",
        "    SELECT\n",
        "        Year, Status,\n",
        "        COUNT(*) AS Total_Outage_Events,\n",
        "        SUM(CASE WHEN Outage_Reason = 'Forced' THEN 1 ELSE 0 END) AS Total_Count_Of_Forced_Events\n",
        "        FROM AEMR_Outage_Table\n",
        "        WHERE Status = 'Approved'\n",
        "        GROUP BY YEAR) AS sub;\n"
      ]
    },
    {
      "cell_type": "markdown",
      "metadata": {
        "id": "ku0jtV50iPZq"
      },
      "source": [
        "**Insight:**\n",
        "Between 2016 and 2017, forced outages increased both in absolute count and as a share of total approved outages, rising from 65.5% to 74.7%. This notable shift highlights a growing operational reliance on reactive recovery rather than proactive maintenance.\n",
        "\n",
        "\n",
        "It’s evident that Forced Outages pose a significant operational and financial risk to the energy grid. Unlike other outage types, forced events are unplanned, meaning energy commitments are broken, leading to immediate energy loss and potential market instability.\n",
        "\n",
        "Additionally, a subset of energy participants consistently exhibits a disproportionately high number of forced outages, signaling recurring reliability issues.\n",
        "\n",
        "To drive actionable insights, analysis can be broken down into two layers:\n",
        "\n",
        "**Macro Analysis** – Measures the total duration of outages per participant to understand overall energy loss impact.\n",
        "\n",
        "**Micro Analysis** – Examines the average outage duration, revealing whether a few large events are skewing the totals, or whether outages are persistently long throughout the year.\n",
        "\n",
        "This layered approach helps me to distinguish between participants affected by isolated major incidents vs. those with systemic reliability issues, and ultimately informs regulatory prioritization and preventive intervention strategies."
      ]
    },
    {
      "cell_type": "markdown",
      "metadata": {
        "id": "7OnulDtoiPZq"
      },
      "source": [
        "<h3 style=\"color:#D4AF37\"> Business Question 7 </h3>"
      ]
    },
    {
      "cell_type": "markdown",
      "metadata": {
        "id": "cArD26ZmiPZq"
      },
      "source": [
        "**Which participants and facilities contributed most to overall energy loss due to outages, and how can we quantify the operational impact by year?**\n",
        "    "
      ]
    },
    {
      "cell_type": "code",
      "execution_count": 16,
      "metadata": {
        "colab": {
          "base_uri": "https://localhost:8080/",
          "height": 183
        },
        "id": "y41Wvr99iPZr",
        "outputId": "acb5a139-5087-48d9-e6c6-bbff6cf46ee5"
      },
      "outputs": [
        {
          "output_type": "stream",
          "name": "stdout",
          "text": [
            " * sqlite:///temp_db_file.db\n",
            "Done.\n"
          ]
        },
        {
          "output_type": "execute_result",
          "data": {
            "text/plain": [
              "[(70, 482.58, 7499.28, 'Scheduled (Planned)', 'MELK', 'MELK_G7', 2017),\n",
              " (177, 404.15, 10285.4, 'Forced', 'MELK', 'MELK_G7', 2017),\n",
              " (85, 392.25, 9668.79, 'Scheduled (Planned)', 'MELK', 'MELK_G7', 2016),\n",
              " (227, 240.69, 19326.56, 'Forced', 'GW', 'BW1_GREENWATERS_G2', 2017),\n",
              " (45, 199.4, 6450.0, 'Scheduled (Planned)', 'GW', 'BW1_GREENWATERS_G2', 2016)]"
            ],
            "text/html": [
              "<table>\n",
              "    <thead>\n",
              "        <tr>\n",
              "            <th>Total_Number_Outages</th>\n",
              "            <th>Total_Duration_In_Days</th>\n",
              "            <th>Total_Energy_Lost</th>\n",
              "            <th>Outage_Reason</th>\n",
              "            <th>Participant_Code</th>\n",
              "            <th>Facility_Code</th>\n",
              "            <th>Year</th>\n",
              "        </tr>\n",
              "    </thead>\n",
              "    <tbody>\n",
              "        <tr>\n",
              "            <td>70</td>\n",
              "            <td>482.58</td>\n",
              "            <td>7499.28</td>\n",
              "            <td>Scheduled (Planned)</td>\n",
              "            <td>MELK</td>\n",
              "            <td>MELK_G7</td>\n",
              "            <td>2017</td>\n",
              "        </tr>\n",
              "        <tr>\n",
              "            <td>177</td>\n",
              "            <td>404.15</td>\n",
              "            <td>10285.4</td>\n",
              "            <td>Forced</td>\n",
              "            <td>MELK</td>\n",
              "            <td>MELK_G7</td>\n",
              "            <td>2017</td>\n",
              "        </tr>\n",
              "        <tr>\n",
              "            <td>85</td>\n",
              "            <td>392.25</td>\n",
              "            <td>9668.79</td>\n",
              "            <td>Scheduled (Planned)</td>\n",
              "            <td>MELK</td>\n",
              "            <td>MELK_G7</td>\n",
              "            <td>2016</td>\n",
              "        </tr>\n",
              "        <tr>\n",
              "            <td>227</td>\n",
              "            <td>240.69</td>\n",
              "            <td>19326.56</td>\n",
              "            <td>Forced</td>\n",
              "            <td>GW</td>\n",
              "            <td>BW1_GREENWATERS_G2</td>\n",
              "            <td>2017</td>\n",
              "        </tr>\n",
              "        <tr>\n",
              "            <td>45</td>\n",
              "            <td>199.4</td>\n",
              "            <td>6450.0</td>\n",
              "            <td>Scheduled (Planned)</td>\n",
              "            <td>GW</td>\n",
              "            <td>BW1_GREENWATERS_G2</td>\n",
              "            <td>2016</td>\n",
              "        </tr>\n",
              "    </tbody>\n",
              "</table>"
            ]
          },
          "metadata": {},
          "execution_count": 16
        }
      ],
      "source": [
        "%%sql\n",
        "SELECT\n",
        " COUNT(*) as Total_Number_Outages,\n",
        " ROUND(SUM(ABS(JULIANDAY(end_time) - JULIANDAY(start_time))),2) as Total_Duration_In_Days,\n",
        " ROUND(SUM(Energy_Lost_MW),2) as Total_Energy_Lost, Outage_Reason, Participant_Code, Facility_Code, Year\n",
        "FROM AEMR_Outage_Table\n",
        "WHERE Status = 'Approved'\n",
        "GROUP BY Outage_Reason, Participant_Code, Facility_Code, Year\n",
        "ORDER BY Total_Duration_In_Days desc, Year\n",
        "LIMIT 5; -- NOTE: Limited to 5 rows for quick view of results;"
      ]
    },
    {
      "cell_type": "markdown",
      "source": [
        "**Insight:**\n",
        "\n",
        "An analysis of outage data from **2016–2017** reveals that a **small subset of participants and facilities** account for a **disproportionate share of total energy loss**.\n",
        "\n",
        "- Specifically, **GW’s `BW1_GREENWATERS_G2`** and **MELK’s `MELK_G7`** facilities consistently top the list due to:\n",
        "  - **High outage frequency**, and\n",
        "  - **Extended outage durations**, particularly from **forced outages**.\n",
        "\n",
        "These patterns highlight **systemic reliability issues** at **critical nodes in the grid**, suggesting a need for:\n",
        "- **Targeted maintenance investment**\n",
        "- **Operational risk reviews**\n",
        "- **Proactive resilience planning**\n"
      ],
      "metadata": {
        "id": "8vrO5fWTEusk"
      }
    },
    {
      "cell_type": "markdown",
      "metadata": {
        "id": "OnNZljWSiPZr"
      },
      "source": [
        "<h3 style=\"color:#D4AF37\"> Business Question 8 </h3>"
      ]
    },
    {
      "cell_type": "markdown",
      "metadata": {
        "id": "EeFtBWUriPZr"
      },
      "source": [
        "<b>Which participants and facilities experience the most severe forced outages on average, and how does this vary by year?\n"
      ]
    },
    {
      "cell_type": "code",
      "execution_count": 17,
      "metadata": {
        "colab": {
          "base_uri": "https://localhost:8080/",
          "height": 183
        },
        "id": "RQFVO9oXiPZr",
        "outputId": "29e37984-f7b6-4da0-85f5-ea5a04cdbc8a"
      },
      "outputs": [
        {
          "output_type": "stream",
          "name": "stdout",
          "text": [
            " * sqlite:///temp_db_file.db\n",
            "Done.\n"
          ]
        },
        {
          "output_type": "execute_result",
          "data": {
            "text/plain": [
              "[(1.11, 149.0, 'Forced', 'COLLGAR', 'COLLGAR_WF1', 2016),\n",
              " (0.04, 141.21, 'Forced', 'PMC', 'PMC_AG', 2017),\n",
              " (0.49, 131.78, 'Forced', 'PMC', 'PMC_AG', 2016),\n",
              " (0.83, 87.71, 'Forced', 'MELK', 'MELK_G7', 2016),\n",
              " (1.06, 85.14, 'Forced', 'GW', 'BW1_GREENWATERS_G2', 2017)]"
            ],
            "text/html": [
              "<table>\n",
              "    <thead>\n",
              "        <tr>\n",
              "            <th>Avg_Duration_In_Days</th>\n",
              "            <th>Avg_Energy_Lost</th>\n",
              "            <th>Outage_Reason</th>\n",
              "            <th>Participant_Code</th>\n",
              "            <th>Facility_Code</th>\n",
              "            <th>Year</th>\n",
              "        </tr>\n",
              "    </thead>\n",
              "    <tbody>\n",
              "        <tr>\n",
              "            <td>1.11</td>\n",
              "            <td>149.0</td>\n",
              "            <td>Forced</td>\n",
              "            <td>COLLGAR</td>\n",
              "            <td>COLLGAR_WF1</td>\n",
              "            <td>2016</td>\n",
              "        </tr>\n",
              "        <tr>\n",
              "            <td>0.04</td>\n",
              "            <td>141.21</td>\n",
              "            <td>Forced</td>\n",
              "            <td>PMC</td>\n",
              "            <td>PMC_AG</td>\n",
              "            <td>2017</td>\n",
              "        </tr>\n",
              "        <tr>\n",
              "            <td>0.49</td>\n",
              "            <td>131.78</td>\n",
              "            <td>Forced</td>\n",
              "            <td>PMC</td>\n",
              "            <td>PMC_AG</td>\n",
              "            <td>2016</td>\n",
              "        </tr>\n",
              "        <tr>\n",
              "            <td>0.83</td>\n",
              "            <td>87.71</td>\n",
              "            <td>Forced</td>\n",
              "            <td>MELK</td>\n",
              "            <td>MELK_G7</td>\n",
              "            <td>2016</td>\n",
              "        </tr>\n",
              "        <tr>\n",
              "            <td>1.06</td>\n",
              "            <td>85.14</td>\n",
              "            <td>Forced</td>\n",
              "            <td>GW</td>\n",
              "            <td>BW1_GREENWATERS_G2</td>\n",
              "            <td>2017</td>\n",
              "        </tr>\n",
              "    </tbody>\n",
              "</table>"
            ]
          },
          "metadata": {},
          "execution_count": 17
        }
      ],
      "source": [
        "%%sql\n",
        "SELECT\n",
        "ROUND(AVG(ABS(JULIANDAY(end_time) - JULIANDAY(start_time))),2) as Avg_Duration_In_Days,\n",
        "ROUND(AVG(Energy_Lost_MW),2) as Avg_Energy_Lost, Outage_Reason, Participant_Code, Facility_Code, Year\n",
        "FROM AEMR_Outage_Table\n",
        "WHERE Status = 'Approved' and Outage_Reason = 'Forced'\n",
        "GROUP BY Participant_Code, Facility_Code, Year\n",
        "ORDER BY Avg_Energy_Lost desc, Year desc\n",
        "LIMIT 5; -- NOTE: Limited to 5 rows for quick view of results;\n"
      ]
    },
    {
      "cell_type": "markdown",
      "source": [
        "**Insights:**\n",
        "\n",
        "\n",
        "Analysis of forced outages reveals that a small group of facilities consistently contributed the most to energy loss and downtime:\n",
        "\n",
        "- **COLLGAR_WF1** reported the highest average energy loss in 2016 (149 MWh), with ongoing issues into 2017—indicating persistent reliability concerns.\n",
        "\n",
        "- **PMC_AG** experienced very short outage durations (as low as 0.04 days) but high energy loss due to its large generation capacity. Even brief interruptions had significant operational impact.\n",
        "\n",
        "- **MELK_G7** and **BW1_GREENWATERS_G2** showed consistently high losses across both years, with MELK reaching **2.28 days average duration** in 2017—signaling worsening reliability.\n",
        "\n",
        "- **WGUTD** recorded the **longest outage durations** (3.44 days) but lower energy loss, likely due to lower capacity or less critical infrastructure.\n",
        "\n",
        "> These insights highlight critical sites for AEMR to prioritize for reliability improvements, performance audits, and infrastructure upgrades.\n",
        "\n"
      ],
      "metadata": {
        "id": "0f7q3k-fzxKk"
      }
    },
    {
      "cell_type": "markdown",
      "metadata": {
        "id": "oMRV9TXTiPZr"
      },
      "source": [
        "# <h3 style=\"color:#D4AF37\"> Business Question 9 </h3>"
      ]
    },
    {
      "cell_type": "markdown",
      "metadata": {
        "id": "ninVKmRAiPZr"
      },
      "source": [
        "<b> What are the top 10 participants and facilities contributed the most to total energy lost from forced outages during 2016–2017, and what proportion of their total energy loss was due to forced events?\n"
      ]
    },
    {
      "cell_type": "code",
      "source": [
        "%%sql\n",
        "\n",
        "SELECT\n",
        "  ROUND(AVG(Energy_Lost_MW), 2) AS Avg_Energy_Lost,\n",
        "  ROUND(SUM(Energy_Lost_MW), 2) AS Total_Energy_Lost,\n",
        "  ROUND(\n",
        "    SUM(Energy_Lost_MW) * 100.0 /\n",
        "    (SELECT SUM(Energy_Lost_MW)\n",
        "     FROM AEMR_Outage_Table\n",
        "     WHERE Status = 'Approved'\n",
        "       AND Outage_Reason = 'Forced'\n",
        "       AND Year = outer_tbl.Year),\n",
        "    2\n",
        "  ) AS Pct_Energy_Loss,\n",
        "  Facility_Code,\n",
        "  Participant_Code,\n",
        "  Outage_Reason,\n",
        "  Year\n",
        "FROM AEMR_Outage_Table AS outer_tbl\n",
        "WHERE Status = 'Approved'\n",
        "  AND Outage_Reason = 'Forced'\n",
        "GROUP BY Facility_Code, Participant_Code, Year\n",
        "ORDER BY Total_Energy_Lost DESC, Year DESC\n",
        "LIMIT 10;\n"
      ],
      "metadata": {
        "colab": {
          "base_uri": "https://localhost:8080/",
          "height": 290
        },
        "id": "gCbm36rvHIIP",
        "outputId": "fa5b45b2-dcdc-4e3d-e7a2-fa3a503c9647"
      },
      "execution_count": 18,
      "outputs": [
        {
          "output_type": "stream",
          "name": "stdout",
          "text": [
            " * sqlite:///temp_db_file.db\n",
            "Done.\n"
          ]
        },
        {
          "output_type": "execute_result",
          "data": {
            "text/plain": [
              "[(44.16, 21639.55, 26.39, 'AURICON_PNJ_U1', 'AURICON', 'Forced', 2017),\n",
              " (85.14, 19326.56, 23.57, 'BW1_GREENWATERS_G2', 'GW', 'Forced', 2017),\n",
              " (49.69, 15751.38, 22.41, 'BW1_GREENWATERS_G2', 'GW', 'Forced', 2016),\n",
              " (87.71, 13771.07, 19.59, 'MELK_G7', 'MELK', 'Forced', 2016),\n",
              " (51.42, 10696.28, 15.22, 'AURICON_PNJ_U1', 'AURICON', 'Forced', 2016),\n",
              " (58.11, 10285.4, 12.54, 'MELK_G7', 'MELK', 'Forced', 2017),\n",
              " (131.78, 9093.09, 12.93, 'PMC_AG', 'PMC', 'Forced', 2016),\n",
              " (72.61, 5881.52, 8.37, 'PJRH_GT11', 'PJRH', 'Forced', 2016),\n",
              " (141.21, 5648.44, 6.89, 'PMC_AG', 'PMC', 'Forced', 2017),\n",
              " (29.17, 5016.67, 6.12, 'TIWEST_COG1', 'TRMOS', 'Forced', 2017)]"
            ],
            "text/html": [
              "<table>\n",
              "    <thead>\n",
              "        <tr>\n",
              "            <th>Avg_Energy_Lost</th>\n",
              "            <th>Total_Energy_Lost</th>\n",
              "            <th>Pct_Energy_Loss</th>\n",
              "            <th>Facility_Code</th>\n",
              "            <th>Participant_Code</th>\n",
              "            <th>Outage_Reason</th>\n",
              "            <th>Year</th>\n",
              "        </tr>\n",
              "    </thead>\n",
              "    <tbody>\n",
              "        <tr>\n",
              "            <td>44.16</td>\n",
              "            <td>21639.55</td>\n",
              "            <td>26.39</td>\n",
              "            <td>AURICON_PNJ_U1</td>\n",
              "            <td>AURICON</td>\n",
              "            <td>Forced</td>\n",
              "            <td>2017</td>\n",
              "        </tr>\n",
              "        <tr>\n",
              "            <td>85.14</td>\n",
              "            <td>19326.56</td>\n",
              "            <td>23.57</td>\n",
              "            <td>BW1_GREENWATERS_G2</td>\n",
              "            <td>GW</td>\n",
              "            <td>Forced</td>\n",
              "            <td>2017</td>\n",
              "        </tr>\n",
              "        <tr>\n",
              "            <td>49.69</td>\n",
              "            <td>15751.38</td>\n",
              "            <td>22.41</td>\n",
              "            <td>BW1_GREENWATERS_G2</td>\n",
              "            <td>GW</td>\n",
              "            <td>Forced</td>\n",
              "            <td>2016</td>\n",
              "        </tr>\n",
              "        <tr>\n",
              "            <td>87.71</td>\n",
              "            <td>13771.07</td>\n",
              "            <td>19.59</td>\n",
              "            <td>MELK_G7</td>\n",
              "            <td>MELK</td>\n",
              "            <td>Forced</td>\n",
              "            <td>2016</td>\n",
              "        </tr>\n",
              "        <tr>\n",
              "            <td>51.42</td>\n",
              "            <td>10696.28</td>\n",
              "            <td>15.22</td>\n",
              "            <td>AURICON_PNJ_U1</td>\n",
              "            <td>AURICON</td>\n",
              "            <td>Forced</td>\n",
              "            <td>2016</td>\n",
              "        </tr>\n",
              "        <tr>\n",
              "            <td>58.11</td>\n",
              "            <td>10285.4</td>\n",
              "            <td>12.54</td>\n",
              "            <td>MELK_G7</td>\n",
              "            <td>MELK</td>\n",
              "            <td>Forced</td>\n",
              "            <td>2017</td>\n",
              "        </tr>\n",
              "        <tr>\n",
              "            <td>131.78</td>\n",
              "            <td>9093.09</td>\n",
              "            <td>12.93</td>\n",
              "            <td>PMC_AG</td>\n",
              "            <td>PMC</td>\n",
              "            <td>Forced</td>\n",
              "            <td>2016</td>\n",
              "        </tr>\n",
              "        <tr>\n",
              "            <td>72.61</td>\n",
              "            <td>5881.52</td>\n",
              "            <td>8.37</td>\n",
              "            <td>PJRH_GT11</td>\n",
              "            <td>PJRH</td>\n",
              "            <td>Forced</td>\n",
              "            <td>2016</td>\n",
              "        </tr>\n",
              "        <tr>\n",
              "            <td>141.21</td>\n",
              "            <td>5648.44</td>\n",
              "            <td>6.89</td>\n",
              "            <td>PMC_AG</td>\n",
              "            <td>PMC</td>\n",
              "            <td>Forced</td>\n",
              "            <td>2017</td>\n",
              "        </tr>\n",
              "        <tr>\n",
              "            <td>29.17</td>\n",
              "            <td>5016.67</td>\n",
              "            <td>6.12</td>\n",
              "            <td>TIWEST_COG1</td>\n",
              "            <td>TRMOS</td>\n",
              "            <td>Forced</td>\n",
              "            <td>2017</td>\n",
              "        </tr>\n",
              "    </tbody>\n",
              "</table>"
            ]
          },
          "metadata": {},
          "execution_count": 18
        }
      ]
    },
    {
      "cell_type": "markdown",
      "source": [
        "**Insight:**\n",
        "\n",
        "Between 2016 and 2017, forced outages led to substantial energy losses, with a small group of participants and facilities contributing a disproportionately high share.\n",
        "\n",
        "- **AURICON_PNJ_U1 (AURICON)** reported the highest total energy lost from forced outages, with over **21,600 MWh** lost in 2017—accounting for **26.4%** of all forced outage-related energy loss that year.\n",
        "  \n",
        "- **BW1_GREENWATERS_G2 (GW)** and **MELK_G7 (MELK)** also consistently ranked among the top contributors across both years, indicating persistent reliability challenges in their operations.\n",
        "\n",
        "- **PMC_AG (PMC)**, despite having shorter outages, experienced significant energy loss due to its high output capacity—totaling over **14,700 MWh** across 2016 and 2017.\n",
        "\n",
        "Collectively, the **top 5 facilities** accounted for **more than 50%** of total energy lost from forced outages, underscoring the need for targeted interventions such as infrastructure upgrades, performance audits, and preventive maintenance at these high-impact nodes.\n",
        "\n",
        "These findings provide a data-driven foundation for AEMR to prioritize reliability investments and mitigate systemic risks in the energy grid.\n",
        "\n"
      ],
      "metadata": {
        "id": "GAuOc6Ak0d73"
      }
    },
    {
      "cell_type": "markdown",
      "metadata": {
        "id": "GPJkA5NHiPZr"
      },
      "source": [
        "<h3 style=\"color:#D4AF37\"> Business Question 10 </h3>"
      ]
    },
    {
      "cell_type": "markdown",
      "metadata": {
        "id": "XdkBOdp5iPZr"
      },
      "source": [
        "<b>What are the primary causes (top 3) behind the highest energy losses for the top three participants (GW, MELK, and AURICON), and how much do these outage reasons contribute to their overall energy loss?\n",
        "\n"
      ]
    },
    {
      "cell_type": "code",
      "source": [
        "%%sql\n",
        "WITH Ranked_Outages AS (\n",
        "  SELECT\n",
        "    Participant_Code,\n",
        "    Facility_Code,\n",
        "    Description_Of_Outage,\n",
        "    ROUND(SUM(Energy_Lost_MW), 2) AS Total_Energy_Lost,\n",
        "    ROUND(SUM(Energy_Lost_MW) * 100.0 /\n",
        "          (SELECT SUM(Energy_Lost_MW)\n",
        "           FROM AEMR_Outage_Table\n",
        "           WHERE Status = 'Approved' AND Outage_Reason = 'Forced'), 2) AS Pct_Energy_Loss,\n",
        "    RANK() OVER (PARTITION BY Participant_Code ORDER BY SUM(Energy_Lost_MW) DESC) AS rank\n",
        "  FROM AEMR_Outage_Table\n",
        "  WHERE Participant_Code IN ('GW', 'MELK', 'AURICON')\n",
        "    AND Status = 'Approved'\n",
        "    AND Outage_Reason = 'Forced'\n",
        "  GROUP BY Participant_Code, Facility_Code, Description_Of_Outage\n",
        ")\n",
        "\n",
        "SELECT *\n",
        "FROM Ranked_Outages\n",
        "WHERE rank <= 3\n",
        "ORDER BY Participant_Code;\n"
      ],
      "metadata": {
        "colab": {
          "base_uri": "https://localhost:8080/",
          "height": 268
        },
        "id": "pI5nR0lvfdC5",
        "outputId": "2fef25b4-e854-484f-98bb-e299b385956a"
      },
      "execution_count": 19,
      "outputs": [
        {
          "output_type": "stream",
          "name": "stdout",
          "text": [
            " * sqlite:///temp_db_file.db\n",
            "Done.\n"
          ]
        },
        {
          "output_type": "execute_result",
          "data": {
            "text/plain": [
              "[('AURICON', 'AURICON_PNJ_U1', 'Full unit trip', 6033.87, 3.96, 1),\n",
              " ('AURICON', 'AURICON_PNJ_U1', 'Return to service from outage delayed', 1573.0, 1.03, 2),\n",
              " ('AURICON', 'AURICON_PNJ_U1', 'unit maximum output was restricted to 100 MW as-generated due to high rotor temperature alarm for safety purposes', 1167.73, 0.77, 3),\n",
              " ('GW', 'BW1_GREENWATERS_G2', 'Operational Issues caused real time forced outage.', 28687.54, 18.84, 1),\n",
              " ('GW', 'BW1_GREENWATERS_G2', 'FO', 833.6, 0.55, 2),\n",
              " ('GW', 'BW1_GREENWATERS_G2', 'FO due to unit trip', 473.2, 0.31, 3),\n",
              " ('MELK', 'MELK_G7', 'Safety Issues', 1100.0, 0.72, 1),\n",
              " ('MELK', 'MELK_G7', 'Unit trip - loss of ignition at low load', 972.18, 0.64, 2),\n",
              " ('MELK', 'MELK_G7', 'Boiler inspection', 422.22, 0.28, 3)]"
            ],
            "text/html": [
              "<table>\n",
              "    <thead>\n",
              "        <tr>\n",
              "            <th>Participant_Code</th>\n",
              "            <th>Facility_Code</th>\n",
              "            <th>Description_Of_Outage</th>\n",
              "            <th>Total_Energy_Lost</th>\n",
              "            <th>Pct_Energy_Loss</th>\n",
              "            <th>rank</th>\n",
              "        </tr>\n",
              "    </thead>\n",
              "    <tbody>\n",
              "        <tr>\n",
              "            <td>AURICON</td>\n",
              "            <td>AURICON_PNJ_U1</td>\n",
              "            <td>Full unit trip</td>\n",
              "            <td>6033.87</td>\n",
              "            <td>3.96</td>\n",
              "            <td>1</td>\n",
              "        </tr>\n",
              "        <tr>\n",
              "            <td>AURICON</td>\n",
              "            <td>AURICON_PNJ_U1</td>\n",
              "            <td>Return to service from outage delayed</td>\n",
              "            <td>1573.0</td>\n",
              "            <td>1.03</td>\n",
              "            <td>2</td>\n",
              "        </tr>\n",
              "        <tr>\n",
              "            <td>AURICON</td>\n",
              "            <td>AURICON_PNJ_U1</td>\n",
              "            <td>unit maximum output was restricted to 100 MW as-generated due to high rotor temperature alarm for safety purposes</td>\n",
              "            <td>1167.73</td>\n",
              "            <td>0.77</td>\n",
              "            <td>3</td>\n",
              "        </tr>\n",
              "        <tr>\n",
              "            <td>GW</td>\n",
              "            <td>BW1_GREENWATERS_G2</td>\n",
              "            <td>Operational Issues caused real time forced outage.</td>\n",
              "            <td>28687.54</td>\n",
              "            <td>18.84</td>\n",
              "            <td>1</td>\n",
              "        </tr>\n",
              "        <tr>\n",
              "            <td>GW</td>\n",
              "            <td>BW1_GREENWATERS_G2</td>\n",
              "            <td>FO</td>\n",
              "            <td>833.6</td>\n",
              "            <td>0.55</td>\n",
              "            <td>2</td>\n",
              "        </tr>\n",
              "        <tr>\n",
              "            <td>GW</td>\n",
              "            <td>BW1_GREENWATERS_G2</td>\n",
              "            <td>FO due to unit trip</td>\n",
              "            <td>473.2</td>\n",
              "            <td>0.31</td>\n",
              "            <td>3</td>\n",
              "        </tr>\n",
              "        <tr>\n",
              "            <td>MELK</td>\n",
              "            <td>MELK_G7</td>\n",
              "            <td>Safety Issues</td>\n",
              "            <td>1100.0</td>\n",
              "            <td>0.72</td>\n",
              "            <td>1</td>\n",
              "        </tr>\n",
              "        <tr>\n",
              "            <td>MELK</td>\n",
              "            <td>MELK_G7</td>\n",
              "            <td>Unit trip - loss of ignition at low load</td>\n",
              "            <td>972.18</td>\n",
              "            <td>0.64</td>\n",
              "            <td>2</td>\n",
              "        </tr>\n",
              "        <tr>\n",
              "            <td>MELK</td>\n",
              "            <td>MELK_G7</td>\n",
              "            <td>Boiler inspection</td>\n",
              "            <td>422.22</td>\n",
              "            <td>0.28</td>\n",
              "            <td>3</td>\n",
              "        </tr>\n",
              "    </tbody>\n",
              "</table>"
            ]
          },
          "metadata": {},
          "execution_count": 19
        }
      ]
    },
    {
      "cell_type": "markdown",
      "source": [
        "**Insight**:\n",
        "\n",
        "An in-depth analysis of forced outage data across 2016–2017 reveals that the top three contributors to energy loss—**GW**, **AURICON**, and **MELK**—each face distinct root causes behind their most severe disruptions:\n",
        "\n",
        "- **GW (BW1_GREENWATERS_G2)** experienced the highest energy loss due to *real-time operational issues*, resulting in over **28,600 MWh lost**—accounting for nearly **19%** of all forced outage-related energy loss. This highlights significant gaps in operational readiness and system stability.\n",
        "\n",
        "- **AURICON (AURICON_PNJ_U1)** saw its largest impact from a *full unit trip*, contributing **6,034 MWh** in lost energy, or nearly **4%** of the total. This suggests critical *equipment-level vulnerabilities* affecting supply continuity.\n",
        "\n",
        "- **MELK (MELK_G7)** reported **1,100 MWh** in losses due to *safety-related shutdowns*. Although lower in volume, the nature of the issue raises concerns around *risk management* and *regulatory compliance*.\n"
      ],
      "metadata": {
        "id": "Fr3hSDQ61dQJ"
      }
    }
  ],
  "metadata": {
    "c1_recart": "7.18.0-57c20131aabc1dc2a8c675852d80a7da",
    "kernelspec": {
      "display_name": "Python 3 (ipykernel)",
      "language": "python",
      "name": "python3"
    },
    "language_info": {
      "codemirror_mode": {
        "name": "ipython",
        "version": 3
      },
      "file_extension": ".py",
      "mimetype": "text/x-python",
      "name": "python",
      "nbconvert_exporter": "python",
      "pygments_lexer": "ipython3",
      "version": "3.12.7"
    },
    "colab": {
      "provenance": []
    }
  },
  "nbformat": 4,
  "nbformat_minor": 0
}